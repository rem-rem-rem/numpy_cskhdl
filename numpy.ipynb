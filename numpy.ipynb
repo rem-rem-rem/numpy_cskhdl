{
 "cells": [
  {
   "cell_type": "code",
   "execution_count": 518,
   "id": "6b1ecc8d",
   "metadata": {},
   "outputs": [],
   "source": [
    "import numpy as np"
   ]
  },
  {
   "cell_type": "code",
   "execution_count": 519,
   "id": "b855985b",
   "metadata": {
    "scrolled": true
   },
   "outputs": [
    {
     "data": {
      "text/plain": [
       "(10, 5)"
      ]
     },
     "execution_count": 519,
     "metadata": {},
     "output_type": "execute_result"
    }
   ],
   "source": [
    "np.ones((10, 5)).shape"
   ]
  },
  {
   "cell_type": "code",
   "execution_count": 520,
   "id": "2c375750",
   "metadata": {
    "scrolled": true
   },
   "outputs": [
    {
     "data": {
      "text/plain": [
       "(160, 40, 8)"
      ]
     },
     "execution_count": 520,
     "metadata": {},
     "output_type": "execute_result"
    }
   ],
   "source": [
    "np.ones((3, 4, 5), dtype=np.float64).strides"
   ]
  },
  {
   "cell_type": "code",
   "execution_count": 521,
   "id": "838544ef",
   "metadata": {},
   "outputs": [],
   "source": [
    "ints = np.ones(10, dtype=np.uint16)\n"
   ]
  },
  {
   "cell_type": "code",
   "execution_count": 522,
   "id": "48ffcf9a",
   "metadata": {},
   "outputs": [],
   "source": [
    "floats = np.ones(10, dtype=np.float32)\n"
   ]
  },
  {
   "cell_type": "code",
   "execution_count": 523,
   "id": "46e5a80d",
   "metadata": {},
   "outputs": [
    {
     "data": {
      "text/plain": [
       "True"
      ]
     },
     "execution_count": 523,
     "metadata": {},
     "output_type": "execute_result"
    }
   ],
   "source": [
    " np.issubdtype(ints.dtype, np.integer)\n"
   ]
  },
  {
   "cell_type": "code",
   "execution_count": 524,
   "id": "deae11ee",
   "metadata": {},
   "outputs": [
    {
     "data": {
      "text/plain": [
       "True"
      ]
     },
     "execution_count": 524,
     "metadata": {},
     "output_type": "execute_result"
    }
   ],
   "source": [
    "np.issubdtype(floats.dtype, np.floating)\n"
   ]
  },
  {
   "cell_type": "code",
   "execution_count": 525,
   "id": "2b8a87b0",
   "metadata": {},
   "outputs": [
    {
     "data": {
      "text/plain": [
       "[numpy.float64,\n",
       " numpy.floating,\n",
       " numpy.inexact,\n",
       " numpy.number,\n",
       " numpy.generic,\n",
       " float,\n",
       " object]"
      ]
     },
     "execution_count": 525,
     "metadata": {},
     "output_type": "execute_result"
    }
   ],
   "source": [
    "np.float64.mro()\n"
   ]
  },
  {
   "cell_type": "code",
   "execution_count": 526,
   "id": "a30b6e9a",
   "metadata": {},
   "outputs": [
    {
     "data": {
      "text/plain": [
       "array([0, 1, 2, 3, 4, 5, 6, 7])"
      ]
     },
     "execution_count": 526,
     "metadata": {},
     "output_type": "execute_result"
    }
   ],
   "source": [
    "arr = np.arange(8)\n",
    "arr"
   ]
  },
  {
   "cell_type": "code",
   "execution_count": 527,
   "id": "3409b5a1",
   "metadata": {},
   "outputs": [
    {
     "data": {
      "text/plain": [
       "array([[0, 1],\n",
       "       [2, 3],\n",
       "       [4, 5],\n",
       "       [6, 7]])"
      ]
     },
     "execution_count": 527,
     "metadata": {},
     "output_type": "execute_result"
    }
   ],
   "source": [
    "arr.reshape((4, 2))\n"
   ]
  },
  {
   "cell_type": "code",
   "execution_count": 528,
   "id": "61052aca",
   "metadata": {
    "scrolled": true
   },
   "outputs": [
    {
     "data": {
      "text/plain": [
       "array([[0, 1, 2, 3],\n",
       "       [4, 5, 6, 7]])"
      ]
     },
     "execution_count": 528,
     "metadata": {},
     "output_type": "execute_result"
    }
   ],
   "source": [
    "arr.reshape((4, 2)).reshape((2, 4))\n"
   ]
  },
  {
   "cell_type": "code",
   "execution_count": 529,
   "id": "1d626e38",
   "metadata": {},
   "outputs": [
    {
     "data": {
      "text/plain": [
       "array([[ 0,  1,  2],\n",
       "       [ 3,  4,  5],\n",
       "       [ 6,  7,  8],\n",
       "       [ 9, 10, 11],\n",
       "       [12, 13, 14]])"
      ]
     },
     "execution_count": 529,
     "metadata": {},
     "output_type": "execute_result"
    }
   ],
   "source": [
    "arr = np.arange(15) \n",
    "arr.reshape((5, -1))"
   ]
  },
  {
   "cell_type": "code",
   "execution_count": 530,
   "id": "bb6c5308",
   "metadata": {},
   "outputs": [],
   "source": [
    "other_arr = np.ones((3, 5))"
   ]
  },
  {
   "cell_type": "code",
   "execution_count": 531,
   "id": "20dd141a",
   "metadata": {},
   "outputs": [
    {
     "data": {
      "text/plain": [
       "(3, 5)"
      ]
     },
     "execution_count": 531,
     "metadata": {},
     "output_type": "execute_result"
    }
   ],
   "source": [
    "other_arr.shape"
   ]
  },
  {
   "cell_type": "code",
   "execution_count": 532,
   "id": "ad39d952",
   "metadata": {},
   "outputs": [
    {
     "data": {
      "text/plain": [
       "array([[ 0,  1,  2,  3,  4],\n",
       "       [ 5,  6,  7,  8,  9],\n",
       "       [10, 11, 12, 13, 14]])"
      ]
     },
     "execution_count": 532,
     "metadata": {},
     "output_type": "execute_result"
    }
   ],
   "source": [
    "arr.reshape(other_arr.shape)"
   ]
  },
  {
   "cell_type": "code",
   "execution_count": 533,
   "id": "9b2b787d",
   "metadata": {},
   "outputs": [
    {
     "data": {
      "text/plain": [
       "array([[ 0,  1,  2],\n",
       "       [ 3,  4,  5],\n",
       "       [ 6,  7,  8],\n",
       "       [ 9, 10, 11],\n",
       "       [12, 13, 14]])"
      ]
     },
     "execution_count": 533,
     "metadata": {},
     "output_type": "execute_result"
    }
   ],
   "source": [
    "arr = np.arange(15).reshape((5, 3))\n",
    "arr"
   ]
  },
  {
   "cell_type": "code",
   "execution_count": 534,
   "id": "c4187c8e",
   "metadata": {},
   "outputs": [
    {
     "data": {
      "text/plain": [
       "array([ 0,  1,  2,  3,  4,  5,  6,  7,  8,  9, 10, 11, 12, 13, 14])"
      ]
     },
     "execution_count": 534,
     "metadata": {},
     "output_type": "execute_result"
    }
   ],
   "source": [
    "arr.ravel()\n"
   ]
  },
  {
   "cell_type": "code",
   "execution_count": 535,
   "id": "7b7d65e0",
   "metadata": {},
   "outputs": [
    {
     "data": {
      "text/plain": [
       "array([ 0,  1,  2,  3,  4,  5,  6,  7,  8,  9, 10, 11, 12, 13, 14])"
      ]
     },
     "execution_count": 535,
     "metadata": {},
     "output_type": "execute_result"
    }
   ],
   "source": [
    "arr.flatten()"
   ]
  },
  {
   "cell_type": "code",
   "execution_count": 536,
   "id": "a8952f56",
   "metadata": {},
   "outputs": [
    {
     "data": {
      "text/plain": [
       "array([[ 0,  1,  2,  3],\n",
       "       [ 4,  5,  6,  7],\n",
       "       [ 8,  9, 10, 11]])"
      ]
     },
     "execution_count": 536,
     "metadata": {},
     "output_type": "execute_result"
    }
   ],
   "source": [
    "arr = np.arange(12).reshape((3, 4))\n",
    "arr"
   ]
  },
  {
   "cell_type": "code",
   "execution_count": 537,
   "id": "49e02234",
   "metadata": {},
   "outputs": [
    {
     "data": {
      "text/plain": [
       "array([ 0,  1,  2,  3,  4,  5,  6,  7,  8,  9, 10, 11])"
      ]
     },
     "execution_count": 537,
     "metadata": {},
     "output_type": "execute_result"
    }
   ],
   "source": [
    "arr.ravel()"
   ]
  },
  {
   "cell_type": "code",
   "execution_count": 538,
   "id": "9b9b7171",
   "metadata": {},
   "outputs": [
    {
     "data": {
      "text/plain": [
       "array([ 0,  4,  8,  1,  5,  9,  2,  6, 10,  3,  7, 11])"
      ]
     },
     "execution_count": 538,
     "metadata": {},
     "output_type": "execute_result"
    }
   ],
   "source": [
    "arr.ravel('F')"
   ]
  },
  {
   "cell_type": "code",
   "execution_count": 539,
   "id": "d7e10d16",
   "metadata": {},
   "outputs": [
    {
     "data": {
      "text/plain": [
       "array([[ 1,  2,  3],\n",
       "       [ 4,  5,  6],\n",
       "       [ 7,  8,  9],\n",
       "       [10, 11, 12]])"
      ]
     },
     "execution_count": 539,
     "metadata": {},
     "output_type": "execute_result"
    }
   ],
   "source": [
    "arr1 = np.array([[1, 2, 3], [4, 5, 6]])\n",
    "arr2 = np.array([[7, 8, 9], [10, 11, 12]])\n",
    "np.concatenate([arr1, arr2], axis=0)\n"
   ]
  },
  {
   "cell_type": "code",
   "execution_count": 540,
   "id": "f4b31777",
   "metadata": {
    "scrolled": true
   },
   "outputs": [
    {
     "data": {
      "text/plain": [
       "array([[ 1,  2,  3,  7,  8,  9],\n",
       "       [ 4,  5,  6, 10, 11, 12]])"
      ]
     },
     "execution_count": 540,
     "metadata": {},
     "output_type": "execute_result"
    }
   ],
   "source": [
    "np.concatenate([arr1, arr2], axis=1)"
   ]
  },
  {
   "cell_type": "code",
   "execution_count": 541,
   "id": "e3d2eec5",
   "metadata": {},
   "outputs": [
    {
     "data": {
      "text/plain": [
       "array([[ 1,  2,  3],\n",
       "       [ 4,  5,  6],\n",
       "       [ 7,  8,  9],\n",
       "       [10, 11, 12]])"
      ]
     },
     "execution_count": 541,
     "metadata": {},
     "output_type": "execute_result"
    }
   ],
   "source": [
    "np.vstack((arr1, arr2)) "
   ]
  },
  {
   "cell_type": "code",
   "execution_count": 542,
   "id": "6c716311",
   "metadata": {},
   "outputs": [
    {
     "data": {
      "text/plain": [
       "array([[ 1,  2,  3,  7,  8,  9],\n",
       "       [ 4,  5,  6, 10, 11, 12]])"
      ]
     },
     "execution_count": 542,
     "metadata": {},
     "output_type": "execute_result"
    }
   ],
   "source": [
    "np.hstack((arr1, arr2)) "
   ]
  },
  {
   "cell_type": "code",
   "execution_count": 543,
   "id": "f9e86855",
   "metadata": {},
   "outputs": [],
   "source": [
    "from numpy.random import randn"
   ]
  },
  {
   "cell_type": "code",
   "execution_count": 544,
   "id": "e4b04a1b",
   "metadata": {},
   "outputs": [],
   "source": [
    "arr = randn(5, 2) "
   ]
  },
  {
   "cell_type": "code",
   "execution_count": 545,
   "id": "a7ab5e94",
   "metadata": {},
   "outputs": [
    {
     "data": {
      "text/plain": [
       "array([[ 1.70418405,  0.73609809],\n",
       "       [-2.68310507, -0.23272773],\n",
       "       [-0.3163425 , -1.68675968],\n",
       "       [-2.9609949 , -0.21299145],\n",
       "       [ 1.24797141,  1.26045249]])"
      ]
     },
     "execution_count": 545,
     "metadata": {},
     "output_type": "execute_result"
    }
   ],
   "source": [
    "arr"
   ]
  },
  {
   "cell_type": "code",
   "execution_count": 546,
   "id": "bca50e19",
   "metadata": {},
   "outputs": [],
   "source": [
    "first, second, third = np.split(arr, [1, 3])\n"
   ]
  },
  {
   "cell_type": "code",
   "execution_count": 547,
   "id": "1a8c782a",
   "metadata": {},
   "outputs": [
    {
     "data": {
      "text/plain": [
       "array([[1.70418405, 0.73609809]])"
      ]
     },
     "execution_count": 547,
     "metadata": {},
     "output_type": "execute_result"
    }
   ],
   "source": [
    "first"
   ]
  },
  {
   "cell_type": "code",
   "execution_count": 548,
   "id": "c9bb55cb",
   "metadata": {},
   "outputs": [
    {
     "data": {
      "text/plain": [
       "array([[-2.68310507, -0.23272773],\n",
       "       [-0.3163425 , -1.68675968]])"
      ]
     },
     "execution_count": 548,
     "metadata": {},
     "output_type": "execute_result"
    }
   ],
   "source": [
    "second "
   ]
  },
  {
   "cell_type": "code",
   "execution_count": 549,
   "id": "4a880450",
   "metadata": {},
   "outputs": [
    {
     "data": {
      "text/plain": [
       "array([[-2.9609949 , -0.21299145],\n",
       "       [ 1.24797141,  1.26045249]])"
      ]
     },
     "execution_count": 549,
     "metadata": {},
     "output_type": "execute_result"
    }
   ],
   "source": [
    "third "
   ]
  },
  {
   "cell_type": "code",
   "execution_count": 550,
   "id": "92509cb2",
   "metadata": {},
   "outputs": [
    {
     "data": {
      "text/plain": [
       "array([[ 0.        ,  1.        ],\n",
       "       [ 2.        ,  3.        ],\n",
       "       [ 4.        ,  5.        ],\n",
       "       [-0.55059064,  1.19256759],\n",
       "       [ 0.32163313, -1.57934954],\n",
       "       [ 0.41921857,  1.65329782]])"
      ]
     },
     "execution_count": 550,
     "metadata": {},
     "output_type": "execute_result"
    }
   ],
   "source": [
    "arr = np.arange(6)\n",
    "arr1 = arr.reshape((3, 2))\n",
    "arr2 = randn(3, 2)\n",
    "np.r_[arr1, arr2]"
   ]
  },
  {
   "cell_type": "code",
   "execution_count": 551,
   "id": "e0fb6763",
   "metadata": {},
   "outputs": [
    {
     "data": {
      "text/plain": [
       "array([[ 0.        ,  1.        ,  0.        ],\n",
       "       [ 2.        ,  3.        ,  1.        ],\n",
       "       [ 4.        ,  5.        ,  2.        ],\n",
       "       [-0.55059064,  1.19256759,  3.        ],\n",
       "       [ 0.32163313, -1.57934954,  4.        ],\n",
       "       [ 0.41921857,  1.65329782,  5.        ]])"
      ]
     },
     "execution_count": 551,
     "metadata": {},
     "output_type": "execute_result"
    }
   ],
   "source": [
    "np.c_[np.r_[arr1, arr2], arr]\n"
   ]
  },
  {
   "cell_type": "code",
   "execution_count": 552,
   "id": "a42fbe07",
   "metadata": {},
   "outputs": [
    {
     "data": {
      "text/plain": [
       "array([[  1, -10],\n",
       "       [  2,  -9],\n",
       "       [  3,  -8],\n",
       "       [  4,  -7],\n",
       "       [  5,  -6]])"
      ]
     },
     "execution_count": 552,
     "metadata": {},
     "output_type": "execute_result"
    }
   ],
   "source": [
    "np.c_[1:6, -10:-5]"
   ]
  },
  {
   "cell_type": "code",
   "execution_count": 553,
   "id": "c6671981",
   "metadata": {},
   "outputs": [
    {
     "data": {
      "text/plain": [
       "array([0, 0, 0, 1, 1, 1, 2, 2, 2])"
      ]
     },
     "execution_count": 553,
     "metadata": {},
     "output_type": "execute_result"
    }
   ],
   "source": [
    "arr = np.arange(3)\n",
    "arr.repeat(3)\n"
   ]
  },
  {
   "cell_type": "code",
   "execution_count": 554,
   "id": "6ea4098c",
   "metadata": {},
   "outputs": [
    {
     "data": {
      "text/plain": [
       "array([0, 0, 1, 1, 1, 2, 2, 2, 2])"
      ]
     },
     "execution_count": 554,
     "metadata": {},
     "output_type": "execute_result"
    }
   ],
   "source": [
    "arr.repeat([2, 3, 4])"
   ]
  },
  {
   "cell_type": "code",
   "execution_count": 555,
   "id": "3ae540bf",
   "metadata": {},
   "outputs": [],
   "source": [
    "arr = randn(2, 2)"
   ]
  },
  {
   "cell_type": "code",
   "execution_count": 556,
   "id": "77e792d3",
   "metadata": {},
   "outputs": [
    {
     "data": {
      "text/plain": [
       "array([[1.05254833, 1.07158485],\n",
       "       [0.69709204, 0.05463898]])"
      ]
     },
     "execution_count": 556,
     "metadata": {},
     "output_type": "execute_result"
    }
   ],
   "source": [
    "arr "
   ]
  },
  {
   "cell_type": "code",
   "execution_count": 557,
   "id": "a81c8766",
   "metadata": {},
   "outputs": [
    {
     "data": {
      "text/plain": [
       "array([[1.05254833, 1.07158485],\n",
       "       [1.05254833, 1.07158485],\n",
       "       [0.69709204, 0.05463898],\n",
       "       [0.69709204, 0.05463898]])"
      ]
     },
     "execution_count": 557,
     "metadata": {},
     "output_type": "execute_result"
    }
   ],
   "source": [
    "arr.repeat(2, axis=0)"
   ]
  },
  {
   "cell_type": "code",
   "execution_count": 558,
   "id": "a39bb669",
   "metadata": {},
   "outputs": [
    {
     "data": {
      "text/plain": [
       "array([[1.05254833, 1.07158485],\n",
       "       [1.05254833, 1.07158485],\n",
       "       [0.69709204, 0.05463898],\n",
       "       [0.69709204, 0.05463898],\n",
       "       [0.69709204, 0.05463898]])"
      ]
     },
     "execution_count": 558,
     "metadata": {},
     "output_type": "execute_result"
    }
   ],
   "source": [
    "arr.repeat([2, 3], axis=0)"
   ]
  },
  {
   "cell_type": "code",
   "execution_count": 559,
   "id": "1e147fe3",
   "metadata": {},
   "outputs": [
    {
     "data": {
      "text/plain": [
       "array([[1.05254833, 1.05254833, 1.07158485, 1.07158485, 1.07158485],\n",
       "       [0.69709204, 0.69709204, 0.05463898, 0.05463898, 0.05463898]])"
      ]
     },
     "execution_count": 559,
     "metadata": {},
     "output_type": "execute_result"
    }
   ],
   "source": [
    "arr.repeat([2, 3], axis=1)\n"
   ]
  },
  {
   "cell_type": "code",
   "execution_count": 560,
   "id": "d9332145",
   "metadata": {},
   "outputs": [
    {
     "data": {
      "text/plain": [
       "array([[1.05254833, 1.07158485],\n",
       "       [0.69709204, 0.05463898]])"
      ]
     },
     "execution_count": 560,
     "metadata": {},
     "output_type": "execute_result"
    }
   ],
   "source": [
    "arr"
   ]
  },
  {
   "cell_type": "code",
   "execution_count": 561,
   "id": "03cfecf1",
   "metadata": {},
   "outputs": [
    {
     "data": {
      "text/plain": [
       "array([[1.05254833, 1.07158485, 1.05254833, 1.07158485],\n",
       "       [0.69709204, 0.05463898, 0.69709204, 0.05463898]])"
      ]
     },
     "execution_count": 561,
     "metadata": {},
     "output_type": "execute_result"
    }
   ],
   "source": [
    "np.tile(arr, 2)"
   ]
  },
  {
   "cell_type": "code",
   "execution_count": 562,
   "id": "aa52495c",
   "metadata": {},
   "outputs": [
    {
     "data": {
      "text/plain": [
       "array([[1.05254833, 1.07158485],\n",
       "       [0.69709204, 0.05463898]])"
      ]
     },
     "execution_count": 562,
     "metadata": {},
     "output_type": "execute_result"
    }
   ],
   "source": [
    "arr"
   ]
  },
  {
   "cell_type": "code",
   "execution_count": 563,
   "id": "64d60d59",
   "metadata": {},
   "outputs": [
    {
     "data": {
      "text/plain": [
       "array([[1.05254833, 1.07158485],\n",
       "       [0.69709204, 0.05463898],\n",
       "       [1.05254833, 1.07158485],\n",
       "       [0.69709204, 0.05463898]])"
      ]
     },
     "execution_count": 563,
     "metadata": {},
     "output_type": "execute_result"
    }
   ],
   "source": [
    "np.tile(arr, (2, 1)) "
   ]
  },
  {
   "cell_type": "code",
   "execution_count": 564,
   "id": "61d20700",
   "metadata": {},
   "outputs": [
    {
     "data": {
      "text/plain": [
       "array([[1.05254833, 1.07158485, 1.05254833, 1.07158485],\n",
       "       [0.69709204, 0.05463898, 0.69709204, 0.05463898],\n",
       "       [1.05254833, 1.07158485, 1.05254833, 1.07158485],\n",
       "       [0.69709204, 0.05463898, 0.69709204, 0.05463898],\n",
       "       [1.05254833, 1.07158485, 1.05254833, 1.07158485],\n",
       "       [0.69709204, 0.05463898, 0.69709204, 0.05463898]])"
      ]
     },
     "execution_count": 564,
     "metadata": {},
     "output_type": "execute_result"
    }
   ],
   "source": [
    "np.tile(arr, (3, 2)) "
   ]
  },
  {
   "cell_type": "code",
   "execution_count": 565,
   "id": "7673e99e",
   "metadata": {},
   "outputs": [],
   "source": [
    "arr = np.arange(10) * 100"
   ]
  },
  {
   "cell_type": "code",
   "execution_count": 566,
   "id": "d237fcf8",
   "metadata": {},
   "outputs": [],
   "source": [
    "inds = [7, 1, 2, 6] "
   ]
  },
  {
   "cell_type": "code",
   "execution_count": 567,
   "id": "3c66c755",
   "metadata": {},
   "outputs": [
    {
     "data": {
      "text/plain": [
       "array([700, 100, 200, 600])"
      ]
     },
     "execution_count": 567,
     "metadata": {},
     "output_type": "execute_result"
    }
   ],
   "source": [
    "arr[inds] "
   ]
  },
  {
   "cell_type": "code",
   "execution_count": 568,
   "id": "ec92034f",
   "metadata": {},
   "outputs": [
    {
     "data": {
      "text/plain": [
       "array([700, 100, 200, 600])"
      ]
     },
     "execution_count": 568,
     "metadata": {},
     "output_type": "execute_result"
    }
   ],
   "source": [
    "arr.take(inds)\n"
   ]
  },
  {
   "cell_type": "code",
   "execution_count": 569,
   "id": "2619679f",
   "metadata": {},
   "outputs": [],
   "source": [
    "arr.put(inds, 42)\n"
   ]
  },
  {
   "cell_type": "code",
   "execution_count": 570,
   "id": "0aad830e",
   "metadata": {},
   "outputs": [
    {
     "data": {
      "text/plain": [
       "array([  0,  42,  42, 300, 400, 500,  42,  42, 800, 900])"
      ]
     },
     "execution_count": 570,
     "metadata": {},
     "output_type": "execute_result"
    }
   ],
   "source": [
    "arr"
   ]
  },
  {
   "cell_type": "code",
   "execution_count": 571,
   "id": "e6df8812",
   "metadata": {},
   "outputs": [],
   "source": [
    "arr.put(inds, [40, 41, 42, 43])"
   ]
  },
  {
   "cell_type": "code",
   "execution_count": 572,
   "id": "e57733b4",
   "metadata": {},
   "outputs": [
    {
     "data": {
      "text/plain": [
       "array([  0,  41,  42, 300, 400, 500,  43,  40, 800, 900])"
      ]
     },
     "execution_count": 572,
     "metadata": {},
     "output_type": "execute_result"
    }
   ],
   "source": [
    "arr"
   ]
  },
  {
   "cell_type": "code",
   "execution_count": 573,
   "id": "ee4d319b",
   "metadata": {},
   "outputs": [],
   "source": [
    "inds = [2, 0, 2, 1]\n"
   ]
  },
  {
   "cell_type": "code",
   "execution_count": 574,
   "id": "e349bf8a",
   "metadata": {},
   "outputs": [],
   "source": [
    "arr = randn(2, 4)"
   ]
  },
  {
   "cell_type": "code",
   "execution_count": 575,
   "id": "18ec117c",
   "metadata": {},
   "outputs": [
    {
     "data": {
      "text/plain": [
       "array([[ 0.4770895 , -0.21892119, -0.16126225, -0.25006982],\n",
       "       [ 0.60603429, -0.34074653,  0.7482771 , -2.23497802]])"
      ]
     },
     "execution_count": 575,
     "metadata": {},
     "output_type": "execute_result"
    }
   ],
   "source": [
    "arr"
   ]
  },
  {
   "cell_type": "code",
   "execution_count": 576,
   "id": "8616549f",
   "metadata": {},
   "outputs": [
    {
     "data": {
      "text/plain": [
       "array([[-0.16126225,  0.4770895 , -0.16126225, -0.21892119],\n",
       "       [ 0.7482771 ,  0.60603429,  0.7482771 , -0.34074653]])"
      ]
     },
     "execution_count": 576,
     "metadata": {},
     "output_type": "execute_result"
    }
   ],
   "source": [
    "arr.take(inds, axis=1)\n"
   ]
  },
  {
   "cell_type": "code",
   "execution_count": 577,
   "id": "c8c5eaeb",
   "metadata": {},
   "outputs": [],
   "source": [
    "arr = randn(1000, 50)\n"
   ]
  },
  {
   "cell_type": "code",
   "execution_count": 578,
   "id": "edac7305",
   "metadata": {},
   "outputs": [],
   "source": [
    "inds = np.random.permutation(1000)[:500]\n"
   ]
  },
  {
   "cell_type": "code",
   "execution_count": 579,
   "id": "527cfc6b",
   "metadata": {},
   "outputs": [
    {
     "name": "stdout",
     "output_type": "stream",
     "text": [
      "17.7 µs ± 571 ns per loop (mean ± std. dev. of 7 runs, 100,000 loops each)\n"
     ]
    }
   ],
   "source": [
    "%timeit arr[inds]\n"
   ]
  },
  {
   "cell_type": "code",
   "execution_count": 580,
   "id": "868ba88c",
   "metadata": {},
   "outputs": [
    {
     "name": "stdout",
     "output_type": "stream",
     "text": [
      "13.7 µs ± 681 ns per loop (mean ± std. dev. of 7 runs, 100,000 loops each)\n"
     ]
    }
   ],
   "source": [
    " %timeit arr.take(inds, axis=0)\n"
   ]
  },
  {
   "cell_type": "code",
   "execution_count": 581,
   "id": "44447ee6",
   "metadata": {},
   "outputs": [],
   "source": [
    "arr = np.arange(5)"
   ]
  },
  {
   "cell_type": "code",
   "execution_count": 582,
   "id": "309c1a41",
   "metadata": {},
   "outputs": [
    {
     "data": {
      "text/plain": [
       "array([0, 1, 2, 3, 4])"
      ]
     },
     "execution_count": 582,
     "metadata": {},
     "output_type": "execute_result"
    }
   ],
   "source": [
    "arr"
   ]
  },
  {
   "cell_type": "code",
   "execution_count": 583,
   "id": "328fd03f",
   "metadata": {},
   "outputs": [
    {
     "data": {
      "text/plain": [
       "array([ 0,  4,  8, 12, 16])"
      ]
     },
     "execution_count": 583,
     "metadata": {},
     "output_type": "execute_result"
    }
   ],
   "source": [
    "arr * 4 "
   ]
  },
  {
   "cell_type": "code",
   "execution_count": 584,
   "id": "41f2a31e",
   "metadata": {},
   "outputs": [],
   "source": [
    "arr = randn(4, 3)"
   ]
  },
  {
   "cell_type": "code",
   "execution_count": 585,
   "id": "eeaab61e",
   "metadata": {},
   "outputs": [
    {
     "data": {
      "text/plain": [
       "array([-0.39312702, -0.2080637 ,  0.07937645])"
      ]
     },
     "execution_count": 585,
     "metadata": {},
     "output_type": "execute_result"
    }
   ],
   "source": [
    "arr.mean(0)"
   ]
  },
  {
   "cell_type": "code",
   "execution_count": 586,
   "id": "3783e5f5",
   "metadata": {},
   "outputs": [],
   "source": [
    "demeaned = arr - arr.mean(0)\n"
   ]
  },
  {
   "cell_type": "code",
   "execution_count": 587,
   "id": "f38856f1",
   "metadata": {},
   "outputs": [
    {
     "data": {
      "text/plain": [
       "array([[ 1.06390557,  0.7988565 , -0.57037431],\n",
       "       [-1.53362413,  0.01287788,  0.24984611],\n",
       "       [-0.44135018, -0.28552988,  0.14996819],\n",
       "       [ 0.91106874, -0.52620449,  0.17056001]])"
      ]
     },
     "execution_count": 587,
     "metadata": {},
     "output_type": "execute_result"
    }
   ],
   "source": [
    "demeaned"
   ]
  },
  {
   "cell_type": "code",
   "execution_count": 588,
   "id": "e7a6e645",
   "metadata": {},
   "outputs": [
    {
     "data": {
      "text/plain": [
       "array([-5.55111512e-17,  0.00000000e+00,  0.00000000e+00])"
      ]
     },
     "execution_count": 588,
     "metadata": {},
     "output_type": "execute_result"
    }
   ],
   "source": [
    "demeaned.mean(0) \n"
   ]
  },
  {
   "cell_type": "code",
   "execution_count": 589,
   "id": "a5ff41e0",
   "metadata": {},
   "outputs": [
    {
     "data": {
      "text/plain": [
       "array([[ 0.67077855,  0.5907928 , -0.49099786],\n",
       "       [-1.92675116, -0.19518582,  0.32922256],\n",
       "       [-0.8344772 , -0.49359359,  0.22934465],\n",
       "       [ 0.51794172, -0.73426819,  0.24993646]])"
      ]
     },
     "execution_count": 589,
     "metadata": {},
     "output_type": "execute_result"
    }
   ],
   "source": [
    "arr"
   ]
  },
  {
   "cell_type": "code",
   "execution_count": 590,
   "id": "20428433",
   "metadata": {},
   "outputs": [],
   "source": [
    "row_means = arr.mean(1) "
   ]
  },
  {
   "cell_type": "code",
   "execution_count": 591,
   "id": "64c1ea6e",
   "metadata": {},
   "outputs": [
    {
     "data": {
      "text/plain": [
       "array([[ 0.25685783],\n",
       "       [-0.59757147],\n",
       "       [-0.36624205],\n",
       "       [ 0.01120333]])"
      ]
     },
     "execution_count": 591,
     "metadata": {},
     "output_type": "execute_result"
    }
   ],
   "source": [
    "row_means.reshape((4, 1))"
   ]
  },
  {
   "cell_type": "code",
   "execution_count": 592,
   "id": "5f41c80f",
   "metadata": {},
   "outputs": [
    {
     "data": {
      "text/plain": [
       "array([ 0.00000000e+00, -3.70074342e-17, -3.70074342e-17,  9.25185854e-18])"
      ]
     },
     "execution_count": 592,
     "metadata": {},
     "output_type": "execute_result"
    }
   ],
   "source": [
    "demeaned = arr - row_means.reshape((4, 1))\n",
    "demeaned.mean(1)\n"
   ]
  },
  {
   "cell_type": "code",
   "execution_count": 593,
   "id": "ec98a8b4",
   "metadata": {},
   "outputs": [],
   "source": [
    "#arr - arr.mean(1)\n",
    "# ---------------------------------------------------------------------------\n",
    "# ValueError                                Traceback (most recent call last)\n",
    "# Input In [92], in <cell line: 1>()\n",
    "# ----> 1 arr - arr.mean(1)\n",
    "\n",
    "# ValueError: operands could not be broadcast together with shapes (4,3) (4,)"
   ]
  },
  {
   "cell_type": "code",
   "execution_count": 594,
   "id": "2c6aae6f",
   "metadata": {},
   "outputs": [
    {
     "data": {
      "text/plain": [
       "array([[ 0.41392072,  0.33393497, -0.74785569],\n",
       "       [-1.32917968,  0.40238565,  0.92679403],\n",
       "       [-0.46823515, -0.12735154,  0.59558669],\n",
       "       [ 0.50673839, -0.74547152,  0.23873313]])"
      ]
     },
     "execution_count": 594,
     "metadata": {},
     "output_type": "execute_result"
    }
   ],
   "source": [
    "arr - arr.mean(1).reshape((4, 1))"
   ]
  },
  {
   "cell_type": "code",
   "execution_count": 595,
   "id": "667aa956",
   "metadata": {},
   "outputs": [],
   "source": [
    "arr = np.zeros((4, 4))\n"
   ]
  },
  {
   "cell_type": "code",
   "execution_count": 596,
   "id": "4c621df4",
   "metadata": {},
   "outputs": [],
   "source": [
    "arr_3d = arr[:, np.newaxis, :] "
   ]
  },
  {
   "cell_type": "code",
   "execution_count": 597,
   "id": "58fe3e86",
   "metadata": {},
   "outputs": [
    {
     "data": {
      "text/plain": [
       "(4, 1, 4)"
      ]
     },
     "execution_count": 597,
     "metadata": {},
     "output_type": "execute_result"
    }
   ],
   "source": [
    "arr_3d.shape"
   ]
  },
  {
   "cell_type": "code",
   "execution_count": 598,
   "id": "9fb8bea9",
   "metadata": {},
   "outputs": [],
   "source": [
    "arr_1d = np.random.normal(size=3)"
   ]
  },
  {
   "cell_type": "code",
   "execution_count": 599,
   "id": "f6dbff24",
   "metadata": {},
   "outputs": [
    {
     "data": {
      "text/plain": [
       "array([[-0.2303817 ],\n",
       "       [ 0.64594688],\n",
       "       [-0.48583568]])"
      ]
     },
     "execution_count": 599,
     "metadata": {},
     "output_type": "execute_result"
    }
   ],
   "source": [
    "arr_1d[:, np.newaxis] \n",
    "\n"
   ]
  },
  {
   "cell_type": "code",
   "execution_count": 600,
   "id": "aa5670f4",
   "metadata": {},
   "outputs": [
    {
     "data": {
      "text/plain": [
       "array([[-0.2303817 ,  0.64594688, -0.48583568]])"
      ]
     },
     "execution_count": 600,
     "metadata": {},
     "output_type": "execute_result"
    }
   ],
   "source": [
    "arr_1d[np.newaxis, :] "
   ]
  },
  {
   "cell_type": "code",
   "execution_count": 601,
   "id": "d25862a5",
   "metadata": {},
   "outputs": [],
   "source": [
    "arr = randn(3, 4, 5)\n"
   ]
  },
  {
   "cell_type": "code",
   "execution_count": 602,
   "id": "ca18f1f0",
   "metadata": {},
   "outputs": [],
   "source": [
    "depth_means = arr.mean(2)\n"
   ]
  },
  {
   "cell_type": "code",
   "execution_count": 603,
   "id": "b5953676",
   "metadata": {},
   "outputs": [
    {
     "data": {
      "text/plain": [
       "array([[ 0.24498492,  0.49609724, -0.49691189, -0.1546437 ],\n",
       "       [-0.95675763,  0.02804324,  0.04035583, -0.14029435],\n",
       "       [-0.13686331,  0.84542272,  0.87396114,  0.40696007]])"
      ]
     },
     "execution_count": 603,
     "metadata": {},
     "output_type": "execute_result"
    }
   ],
   "source": [
    "depth_means\n"
   ]
  },
  {
   "cell_type": "code",
   "execution_count": 604,
   "id": "62b9fe40",
   "metadata": {},
   "outputs": [],
   "source": [
    "demeaned = arr - depth_means[:, :, np.newaxis]\n"
   ]
  },
  {
   "cell_type": "code",
   "execution_count": 605,
   "id": "3dfd859b",
   "metadata": {},
   "outputs": [
    {
     "data": {
      "text/plain": [
       "array([[-4.44089210e-17, -8.88178420e-17,  7.77156117e-17,\n",
       "         4.44089210e-17],\n",
       "       [ 4.44089210e-17, -4.44089210e-17,  2.77555756e-18,\n",
       "         0.00000000e+00],\n",
       "       [ 0.00000000e+00, -8.88178420e-17,  4.44089210e-17,\n",
       "        -2.22044605e-17]])"
      ]
     },
     "execution_count": 605,
     "metadata": {},
     "output_type": "execute_result"
    }
   ],
   "source": [
    "demeaned.mean(2)\n"
   ]
  },
  {
   "cell_type": "code",
   "execution_count": 606,
   "id": "0b598bfb",
   "metadata": {},
   "outputs": [],
   "source": [
    "def demean_axis(arr, axis=0):\n",
    "    means = arr.mean(axis)\n",
    "    # This generalized things like [:, :, np.newaxis] to N dimensions\n",
    "    indexer = [slice(None)] * arr.ndim\n",
    "    indexer[axis] = np.newaxis\n",
    "    return arr - means[indexer]\n"
   ]
  },
  {
   "cell_type": "code",
   "execution_count": 607,
   "id": "40152527",
   "metadata": {},
   "outputs": [],
   "source": [
    "arr = np.zeros((4, 3))\n"
   ]
  },
  {
   "cell_type": "code",
   "execution_count": 608,
   "id": "ec5d1a08",
   "metadata": {},
   "outputs": [],
   "source": [
    "arr[:] = 5 "
   ]
  },
  {
   "cell_type": "code",
   "execution_count": 609,
   "id": "98c1c43b",
   "metadata": {},
   "outputs": [
    {
     "data": {
      "text/plain": [
       "array([[5., 5., 5.],\n",
       "       [5., 5., 5.],\n",
       "       [5., 5., 5.],\n",
       "       [5., 5., 5.]])"
      ]
     },
     "execution_count": 609,
     "metadata": {},
     "output_type": "execute_result"
    }
   ],
   "source": [
    "arr "
   ]
  },
  {
   "cell_type": "code",
   "execution_count": 610,
   "id": "37981081",
   "metadata": {},
   "outputs": [],
   "source": [
    "col = np.array([1.28, -0.42, 0.44, 1.6])\n"
   ]
  },
  {
   "cell_type": "code",
   "execution_count": 611,
   "id": "9f82d93c",
   "metadata": {},
   "outputs": [],
   "source": [
    "arr[:] = col[:, np.newaxis] "
   ]
  },
  {
   "cell_type": "code",
   "execution_count": 612,
   "id": "1b1a4dd1",
   "metadata": {},
   "outputs": [
    {
     "data": {
      "text/plain": [
       "array([[ 1.28,  1.28,  1.28],\n",
       "       [-0.42, -0.42, -0.42],\n",
       "       [ 0.44,  0.44,  0.44],\n",
       "       [ 1.6 ,  1.6 ,  1.6 ]])"
      ]
     },
     "execution_count": 612,
     "metadata": {},
     "output_type": "execute_result"
    }
   ],
   "source": [
    "arr "
   ]
  },
  {
   "cell_type": "code",
   "execution_count": 613,
   "id": "cd4ba1e6",
   "metadata": {},
   "outputs": [],
   "source": [
    "arr[:2] = [[-1.37], [0.509]]"
   ]
  },
  {
   "cell_type": "code",
   "execution_count": 614,
   "id": "673aabe3",
   "metadata": {},
   "outputs": [
    {
     "data": {
      "text/plain": [
       "array([[-1.37 , -1.37 , -1.37 ],\n",
       "       [ 0.509,  0.509,  0.509],\n",
       "       [ 0.44 ,  0.44 ,  0.44 ],\n",
       "       [ 1.6  ,  1.6  ,  1.6  ]])"
      ]
     },
     "execution_count": 614,
     "metadata": {},
     "output_type": "execute_result"
    }
   ],
   "source": [
    "arr"
   ]
  },
  {
   "cell_type": "code",
   "execution_count": 615,
   "id": "d398a7a4",
   "metadata": {},
   "outputs": [],
   "source": [
    "arr = np.arange(10)"
   ]
  },
  {
   "cell_type": "code",
   "execution_count": 616,
   "id": "ccd9b12d",
   "metadata": {},
   "outputs": [
    {
     "data": {
      "text/plain": [
       "45"
      ]
     },
     "execution_count": 616,
     "metadata": {},
     "output_type": "execute_result"
    }
   ],
   "source": [
    "np.add.reduce(arr)\n"
   ]
  },
  {
   "cell_type": "code",
   "execution_count": 617,
   "id": "eb29136c",
   "metadata": {},
   "outputs": [
    {
     "data": {
      "text/plain": [
       "45"
      ]
     },
     "execution_count": 617,
     "metadata": {},
     "output_type": "execute_result"
    }
   ],
   "source": [
    "arr.sum()\n"
   ]
  },
  {
   "cell_type": "code",
   "execution_count": 618,
   "id": "b0c4d813",
   "metadata": {},
   "outputs": [],
   "source": [
    "arr = randn(5, 5)"
   ]
  },
  {
   "cell_type": "code",
   "execution_count": 619,
   "id": "7f3fe210",
   "metadata": {},
   "outputs": [],
   "source": [
    "arr[::2].sort(1) # sort a few rows\n"
   ]
  },
  {
   "cell_type": "code",
   "execution_count": 620,
   "id": "e3f7174e",
   "metadata": {},
   "outputs": [
    {
     "data": {
      "text/plain": [
       "array([[ True,  True,  True,  True],\n",
       "       [ True, False,  True, False],\n",
       "       [ True,  True,  True,  True],\n",
       "       [ True, False,  True, False],\n",
       "       [ True,  True,  True,  True]])"
      ]
     },
     "execution_count": 620,
     "metadata": {},
     "output_type": "execute_result"
    }
   ],
   "source": [
    "arr[:, :-1] < arr[:, 1:]\n"
   ]
  },
  {
   "cell_type": "code",
   "execution_count": 621,
   "id": "402300b7",
   "metadata": {},
   "outputs": [
    {
     "data": {
      "text/plain": [
       "array([ True, False,  True, False,  True])"
      ]
     },
     "execution_count": 621,
     "metadata": {},
     "output_type": "execute_result"
    }
   ],
   "source": [
    "np.logical_and.reduce(arr[:, :-1] < arr[:, 1:], axis=1)\n"
   ]
  },
  {
   "cell_type": "code",
   "execution_count": 622,
   "id": "10f46c3a",
   "metadata": {},
   "outputs": [],
   "source": [
    "arr = np.arange(15).reshape((3, 5))\n"
   ]
  },
  {
   "cell_type": "code",
   "execution_count": 623,
   "id": "c4ebf05d",
   "metadata": {},
   "outputs": [
    {
     "data": {
      "text/plain": [
       "array([[ 0,  1,  3,  6, 10],\n",
       "       [ 5, 11, 18, 26, 35],\n",
       "       [10, 21, 33, 46, 60]], dtype=int32)"
      ]
     },
     "execution_count": 623,
     "metadata": {},
     "output_type": "execute_result"
    }
   ],
   "source": [
    "np.add.accumulate(arr, axis=1)\n"
   ]
  },
  {
   "cell_type": "code",
   "execution_count": 624,
   "id": "83da5750",
   "metadata": {},
   "outputs": [],
   "source": [
    "arr = np.arange(3).repeat([1, 2, 2])\n"
   ]
  },
  {
   "cell_type": "code",
   "execution_count": 625,
   "id": "fa6d0828",
   "metadata": {},
   "outputs": [
    {
     "data": {
      "text/plain": [
       "array([0, 1, 1, 2, 2])"
      ]
     },
     "execution_count": 625,
     "metadata": {},
     "output_type": "execute_result"
    }
   ],
   "source": [
    "arr"
   ]
  },
  {
   "cell_type": "code",
   "execution_count": 626,
   "id": "45eeeed7",
   "metadata": {},
   "outputs": [
    {
     "data": {
      "text/plain": [
       "array([[0, 0, 0, 0, 0],\n",
       "       [0, 1, 2, 3, 4],\n",
       "       [0, 1, 2, 3, 4],\n",
       "       [0, 2, 4, 6, 8],\n",
       "       [0, 2, 4, 6, 8]])"
      ]
     },
     "execution_count": 626,
     "metadata": {},
     "output_type": "execute_result"
    }
   ],
   "source": [
    "np.multiply.outer(arr, np.arange(5))\n"
   ]
  },
  {
   "cell_type": "code",
   "execution_count": 627,
   "id": "8c48d304",
   "metadata": {},
   "outputs": [],
   "source": [
    "result = np.subtract.outer(randn(3, 4), randn(5))\n"
   ]
  },
  {
   "cell_type": "code",
   "execution_count": 628,
   "id": "3ff3e473",
   "metadata": {},
   "outputs": [
    {
     "data": {
      "text/plain": [
       "(3, 4, 5)"
      ]
     },
     "execution_count": 628,
     "metadata": {},
     "output_type": "execute_result"
    }
   ],
   "source": [
    "result.shape"
   ]
  },
  {
   "cell_type": "code",
   "execution_count": 629,
   "id": "aa63cd5f",
   "metadata": {},
   "outputs": [],
   "source": [
    "arr = np.arange(10)\n"
   ]
  },
  {
   "cell_type": "code",
   "execution_count": 630,
   "id": "08987344",
   "metadata": {},
   "outputs": [
    {
     "data": {
      "text/plain": [
       "array([10, 18, 17], dtype=int32)"
      ]
     },
     "execution_count": 630,
     "metadata": {},
     "output_type": "execute_result"
    }
   ],
   "source": [
    "np.add.reduceat(arr, [0, 5, 8])\n"
   ]
  },
  {
   "cell_type": "code",
   "execution_count": 631,
   "id": "34c833d1",
   "metadata": {},
   "outputs": [],
   "source": [
    "arr = np.multiply.outer(np.arange(4), np.arange(5))\n"
   ]
  },
  {
   "cell_type": "code",
   "execution_count": 632,
   "id": "c8fbaf46",
   "metadata": {},
   "outputs": [
    {
     "data": {
      "text/plain": [
       "array([[ 0,  0,  0,  0,  0],\n",
       "       [ 0,  1,  2,  3,  4],\n",
       "       [ 0,  2,  4,  6,  8],\n",
       "       [ 0,  3,  6,  9, 12]])"
      ]
     },
     "execution_count": 632,
     "metadata": {},
     "output_type": "execute_result"
    }
   ],
   "source": [
    "arr "
   ]
  },
  {
   "cell_type": "code",
   "execution_count": 633,
   "id": "c30548d5",
   "metadata": {},
   "outputs": [
    {
     "data": {
      "text/plain": [
       "array([[ 0,  0,  0],\n",
       "       [ 1,  5,  4],\n",
       "       [ 2, 10,  8],\n",
       "       [ 3, 15, 12]], dtype=int32)"
      ]
     },
     "execution_count": 633,
     "metadata": {},
     "output_type": "execute_result"
    }
   ],
   "source": [
    "np.add.reduceat(arr, [0, 2, 4], axis=1)\n"
   ]
  },
  {
   "cell_type": "code",
   "execution_count": 634,
   "id": "a70a039c",
   "metadata": {},
   "outputs": [],
   "source": [
    "def add_elements(x, y):\n",
    "    return x + y\n"
   ]
  },
  {
   "cell_type": "code",
   "execution_count": 635,
   "id": "d1e7e942",
   "metadata": {},
   "outputs": [
    {
     "data": {
      "text/plain": [
       "array([0, 2, 4, 6, 8, 10, 12, 14], dtype=object)"
      ]
     },
     "execution_count": 635,
     "metadata": {},
     "output_type": "execute_result"
    }
   ],
   "source": [
    "add_them = np.frompyfunc(add_elements, 2, 1)\n",
    "add_them(np.arange(8), np.arange(8))"
   ]
  },
  {
   "cell_type": "code",
   "execution_count": 636,
   "id": "c3ab9da1",
   "metadata": {},
   "outputs": [],
   "source": [
    "add_them = np.vectorize(add_elements, otypes=[np.float64])\n"
   ]
  },
  {
   "cell_type": "code",
   "execution_count": 637,
   "id": "a932ae81",
   "metadata": {},
   "outputs": [
    {
     "data": {
      "text/plain": [
       "array([ 0.,  2.,  4.,  6.,  8., 10., 12., 14.])"
      ]
     },
     "execution_count": 637,
     "metadata": {},
     "output_type": "execute_result"
    }
   ],
   "source": [
    "add_them(np.arange(8), np.arange(8))\n"
   ]
  },
  {
   "cell_type": "code",
   "execution_count": 638,
   "id": "d4fc7402",
   "metadata": {},
   "outputs": [],
   "source": [
    "arr = randn(10000)\n"
   ]
  },
  {
   "cell_type": "code",
   "execution_count": 639,
   "id": "054271b1",
   "metadata": {},
   "outputs": [
    {
     "name": "stdout",
     "output_type": "stream",
     "text": [
      "1.44 ms ± 160 µs per loop (mean ± std. dev. of 7 runs, 100 loops each)\n"
     ]
    }
   ],
   "source": [
    "%timeit add_them(arr, arr)"
   ]
  },
  {
   "cell_type": "code",
   "execution_count": 640,
   "id": "2e88830c",
   "metadata": {},
   "outputs": [
    {
     "name": "stdout",
     "output_type": "stream",
     "text": [
      "2.62 µs ± 21.8 ns per loop (mean ± std. dev. of 7 runs, 100,000 loops each)\n"
     ]
    }
   ],
   "source": [
    "%timeit np.add(arr, arr)\n"
   ]
  },
  {
   "cell_type": "code",
   "execution_count": 641,
   "id": "4e4e7eb3",
   "metadata": {},
   "outputs": [],
   "source": [
    "dtype = [('x', np.float64), ('y', np.int32)]\n"
   ]
  },
  {
   "cell_type": "code",
   "execution_count": 642,
   "id": "777a89dd",
   "metadata": {},
   "outputs": [],
   "source": [
    "sarr = np.array([(1.5, 6), (np.pi, -2)], dtype=dtype)"
   ]
  },
  {
   "cell_type": "code",
   "execution_count": 643,
   "id": "084d54e3",
   "metadata": {},
   "outputs": [
    {
     "data": {
      "text/plain": [
       "array([(1.5       ,  6), (3.14159265, -2)],\n",
       "      dtype=[('x', '<f8'), ('y', '<i4')])"
      ]
     },
     "execution_count": 643,
     "metadata": {},
     "output_type": "execute_result"
    }
   ],
   "source": [
    "sarr"
   ]
  },
  {
   "cell_type": "code",
   "execution_count": 644,
   "id": "26b9aed6",
   "metadata": {},
   "outputs": [
    {
     "data": {
      "text/plain": [
       "(1.5, 6)"
      ]
     },
     "execution_count": 644,
     "metadata": {},
     "output_type": "execute_result"
    }
   ],
   "source": [
    "sarr[0]"
   ]
  },
  {
   "cell_type": "code",
   "execution_count": 645,
   "id": "55ed5aa7",
   "metadata": {},
   "outputs": [
    {
     "data": {
      "text/plain": [
       "6"
      ]
     },
     "execution_count": 645,
     "metadata": {},
     "output_type": "execute_result"
    }
   ],
   "source": [
    "sarr[0]['y']\n"
   ]
  },
  {
   "cell_type": "code",
   "execution_count": 646,
   "id": "2ba27ecb",
   "metadata": {},
   "outputs": [
    {
     "data": {
      "text/plain": [
       "array([1.5       , 3.14159265])"
      ]
     },
     "execution_count": 646,
     "metadata": {},
     "output_type": "execute_result"
    }
   ],
   "source": [
    "sarr['x']"
   ]
  },
  {
   "cell_type": "code",
   "execution_count": 647,
   "id": "17272850",
   "metadata": {},
   "outputs": [],
   "source": [
    "dtype = [('x', np.int64, 3), ('y', np.int32)]\n"
   ]
  },
  {
   "cell_type": "code",
   "execution_count": 648,
   "id": "763b3c71",
   "metadata": {},
   "outputs": [],
   "source": [
    "arr = np.zeros(4, dtype=dtype)"
   ]
  },
  {
   "cell_type": "code",
   "execution_count": 649,
   "id": "54246a58",
   "metadata": {},
   "outputs": [
    {
     "data": {
      "text/plain": [
       "array([([0, 0, 0], 0), ([0, 0, 0], 0), ([0, 0, 0], 0), ([0, 0, 0], 0)],\n",
       "      dtype=[('x', '<i8', (3,)), ('y', '<i4')])"
      ]
     },
     "execution_count": 649,
     "metadata": {},
     "output_type": "execute_result"
    }
   ],
   "source": [
    "arr"
   ]
  },
  {
   "cell_type": "code",
   "execution_count": 650,
   "id": "2ab025d2",
   "metadata": {},
   "outputs": [
    {
     "data": {
      "text/plain": [
       "array([0, 0, 0], dtype=int64)"
      ]
     },
     "execution_count": 650,
     "metadata": {},
     "output_type": "execute_result"
    }
   ],
   "source": [
    "arr[0]['x']"
   ]
  },
  {
   "cell_type": "code",
   "execution_count": 651,
   "id": "be864ecf",
   "metadata": {},
   "outputs": [
    {
     "data": {
      "text/plain": [
       "array([[0, 0, 0],\n",
       "       [0, 0, 0],\n",
       "       [0, 0, 0],\n",
       "       [0, 0, 0]], dtype=int64)"
      ]
     },
     "execution_count": 651,
     "metadata": {},
     "output_type": "execute_result"
    }
   ],
   "source": [
    "arr['x']\n"
   ]
  },
  {
   "cell_type": "code",
   "execution_count": 652,
   "id": "3d1b6e4c",
   "metadata": {},
   "outputs": [],
   "source": [
    "dtype = [('x', [('a', 'f8'), ('b', 'f4')]), ('y', np.int32)]\n"
   ]
  },
  {
   "cell_type": "code",
   "execution_count": 653,
   "id": "e79f030a",
   "metadata": {},
   "outputs": [],
   "source": [
    "data = np.array([((1, 2), 5), ((3, 4), 6)], dtype=dtype)\n"
   ]
  },
  {
   "cell_type": "code",
   "execution_count": 654,
   "id": "d1e38861",
   "metadata": {},
   "outputs": [
    {
     "data": {
      "text/plain": [
       "array([(1., 2.), (3., 4.)], dtype=[('a', '<f8'), ('b', '<f4')])"
      ]
     },
     "execution_count": 654,
     "metadata": {},
     "output_type": "execute_result"
    }
   ],
   "source": [
    "data['x']\n"
   ]
  },
  {
   "cell_type": "code",
   "execution_count": 655,
   "id": "0ba0555a",
   "metadata": {},
   "outputs": [
    {
     "data": {
      "text/plain": [
       "array([5, 6])"
      ]
     },
     "execution_count": 655,
     "metadata": {},
     "output_type": "execute_result"
    }
   ],
   "source": [
    "data['y']\n"
   ]
  },
  {
   "cell_type": "code",
   "execution_count": 656,
   "id": "3af8fb5f",
   "metadata": {},
   "outputs": [
    {
     "data": {
      "text/plain": [
       "array([1., 3.])"
      ]
     },
     "execution_count": 656,
     "metadata": {},
     "output_type": "execute_result"
    }
   ],
   "source": [
    "data['x']['a']"
   ]
  },
  {
   "cell_type": "code",
   "execution_count": 657,
   "id": "767ebc20",
   "metadata": {},
   "outputs": [],
   "source": [
    "arr = randn(6)\n"
   ]
  },
  {
   "cell_type": "code",
   "execution_count": 658,
   "id": "8474ba7e",
   "metadata": {},
   "outputs": [],
   "source": [
    "arr.sort()\n"
   ]
  },
  {
   "cell_type": "code",
   "execution_count": 659,
   "id": "d45c738e",
   "metadata": {},
   "outputs": [
    {
     "data": {
      "text/plain": [
       "array([-2.13860542, -1.33138056, -0.86272392, -0.65467677,  0.16105936,\n",
       "        1.22171471])"
      ]
     },
     "execution_count": 659,
     "metadata": {},
     "output_type": "execute_result"
    }
   ],
   "source": [
    "arr"
   ]
  },
  {
   "cell_type": "code",
   "execution_count": 660,
   "id": "e2eba004",
   "metadata": {},
   "outputs": [],
   "source": [
    "arr = randn(3, 5)\n"
   ]
  },
  {
   "cell_type": "code",
   "execution_count": 661,
   "id": "cea097cc",
   "metadata": {},
   "outputs": [
    {
     "data": {
      "text/plain": [
       "array([[-1.13006807,  0.69672573, -1.41551965, -1.38711192,  0.08483629],\n",
       "       [ 0.41978471, -1.3128977 , -0.12081831,  0.54635679,  0.01294678],\n",
       "       [-0.83109291, -0.2531277 ,  0.55360381, -1.33221695, -1.11297509]])"
      ]
     },
     "execution_count": 661,
     "metadata": {},
     "output_type": "execute_result"
    }
   ],
   "source": [
    "arr"
   ]
  },
  {
   "cell_type": "code",
   "execution_count": 662,
   "id": "32d56aa8",
   "metadata": {},
   "outputs": [],
   "source": [
    "arr[:, 0].sort() # Sort first column values in-place"
   ]
  },
  {
   "cell_type": "code",
   "execution_count": 663,
   "id": "311e3430",
   "metadata": {},
   "outputs": [
    {
     "data": {
      "text/plain": [
       "array([[-1.13006807,  0.69672573, -1.41551965, -1.38711192,  0.08483629],\n",
       "       [-0.83109291, -1.3128977 , -0.12081831,  0.54635679,  0.01294678],\n",
       "       [ 0.41978471, -0.2531277 ,  0.55360381, -1.33221695, -1.11297509]])"
      ]
     },
     "execution_count": 663,
     "metadata": {},
     "output_type": "execute_result"
    }
   ],
   "source": [
    "arr"
   ]
  },
  {
   "cell_type": "code",
   "execution_count": 664,
   "id": "a96294a2",
   "metadata": {},
   "outputs": [],
   "source": [
    "arr = randn(5)\n"
   ]
  },
  {
   "cell_type": "code",
   "execution_count": 665,
   "id": "9e6304be",
   "metadata": {},
   "outputs": [
    {
     "data": {
      "text/plain": [
       "array([-0.15507084, -0.72604271,  0.85112831,  1.87406427,  1.05784857])"
      ]
     },
     "execution_count": 665,
     "metadata": {},
     "output_type": "execute_result"
    }
   ],
   "source": [
    "arr"
   ]
  },
  {
   "cell_type": "code",
   "execution_count": 666,
   "id": "b5ab5b0b",
   "metadata": {},
   "outputs": [
    {
     "data": {
      "text/plain": [
       "array([-0.72604271, -0.15507084,  0.85112831,  1.05784857,  1.87406427])"
      ]
     },
     "execution_count": 666,
     "metadata": {},
     "output_type": "execute_result"
    }
   ],
   "source": [
    "np.sort(arr)\n"
   ]
  },
  {
   "cell_type": "code",
   "execution_count": 667,
   "id": "776a95f2",
   "metadata": {},
   "outputs": [
    {
     "data": {
      "text/plain": [
       "array([-0.15507084, -0.72604271,  0.85112831,  1.87406427,  1.05784857])"
      ]
     },
     "execution_count": 667,
     "metadata": {},
     "output_type": "execute_result"
    }
   ],
   "source": [
    "arr"
   ]
  },
  {
   "cell_type": "code",
   "execution_count": 668,
   "id": "d5434640",
   "metadata": {},
   "outputs": [],
   "source": [
    "arr = randn(3, 5)"
   ]
  },
  {
   "cell_type": "code",
   "execution_count": 669,
   "id": "c78a35f7",
   "metadata": {},
   "outputs": [
    {
     "data": {
      "text/plain": [
       "array([[ 0.70563036,  1.06603136, -1.11566281, -0.10831913,  0.03057197],\n",
       "       [-0.87394686,  0.11594494,  0.27370073,  1.65509267, -2.04472005],\n",
       "       [-0.6884154 ,  0.85214667,  0.58815597,  1.26539245, -1.00131067]])"
      ]
     },
     "execution_count": 669,
     "metadata": {},
     "output_type": "execute_result"
    }
   ],
   "source": [
    "arr"
   ]
  },
  {
   "cell_type": "code",
   "execution_count": 670,
   "id": "7673a6cb",
   "metadata": {},
   "outputs": [],
   "source": [
    "arr.sort(axis=1)"
   ]
  },
  {
   "cell_type": "code",
   "execution_count": 671,
   "id": "1fe9a8a0",
   "metadata": {},
   "outputs": [
    {
     "data": {
      "text/plain": [
       "array([[-1.11566281, -0.10831913,  0.03057197,  0.70563036,  1.06603136],\n",
       "       [-2.04472005, -0.87394686,  0.11594494,  0.27370073,  1.65509267],\n",
       "       [-1.00131067, -0.6884154 ,  0.58815597,  0.85214667,  1.26539245]])"
      ]
     },
     "execution_count": 671,
     "metadata": {},
     "output_type": "execute_result"
    }
   ],
   "source": [
    "arr"
   ]
  },
  {
   "cell_type": "code",
   "execution_count": 672,
   "id": "80be205f",
   "metadata": {},
   "outputs": [
    {
     "data": {
      "text/plain": [
       "array([[ 1.06603136,  0.70563036,  0.03057197, -0.10831913, -1.11566281],\n",
       "       [ 1.65509267,  0.27370073,  0.11594494, -0.87394686, -2.04472005],\n",
       "       [ 1.26539245,  0.85214667,  0.58815597, -0.6884154 , -1.00131067]])"
      ]
     },
     "execution_count": 672,
     "metadata": {},
     "output_type": "execute_result"
    }
   ],
   "source": [
    "arr[:, ::-1]\n"
   ]
  },
  {
   "cell_type": "code",
   "execution_count": 673,
   "id": "ee2e50eb",
   "metadata": {},
   "outputs": [],
   "source": [
    "values = np.array([5, 0, 1, 3, 2])"
   ]
  },
  {
   "cell_type": "code",
   "execution_count": 674,
   "id": "66648cec",
   "metadata": {},
   "outputs": [],
   "source": [
    "indexer = values.argsort()\n"
   ]
  },
  {
   "cell_type": "code",
   "execution_count": 675,
   "id": "4ac8bd25",
   "metadata": {},
   "outputs": [
    {
     "data": {
      "text/plain": [
       "array([1, 2, 4, 3, 0], dtype=int64)"
      ]
     },
     "execution_count": 675,
     "metadata": {},
     "output_type": "execute_result"
    }
   ],
   "source": [
    "indexer"
   ]
  },
  {
   "cell_type": "code",
   "execution_count": 676,
   "id": "d24accba",
   "metadata": {},
   "outputs": [
    {
     "data": {
      "text/plain": [
       "array([0, 1, 2, 3, 5])"
      ]
     },
     "execution_count": 676,
     "metadata": {},
     "output_type": "execute_result"
    }
   ],
   "source": [
    "values[indexer]"
   ]
  },
  {
   "cell_type": "code",
   "execution_count": 677,
   "id": "9de2fdf4",
   "metadata": {},
   "outputs": [],
   "source": [
    "arr = randn(3, 5)\n"
   ]
  },
  {
   "cell_type": "code",
   "execution_count": 678,
   "id": "0ee1b834",
   "metadata": {},
   "outputs": [],
   "source": [
    "arr[0] = values"
   ]
  },
  {
   "cell_type": "code",
   "execution_count": 679,
   "id": "c7d6c8bc",
   "metadata": {},
   "outputs": [
    {
     "data": {
      "text/plain": [
       "array([[ 5.        ,  0.        ,  1.        ,  3.        ,  2.        ],\n",
       "       [ 1.43744926, -1.60306969,  0.30423477,  0.21777657,  2.34270459],\n",
       "       [-0.10870521,  0.0820135 ,  0.12768832, -0.76956284,  0.93017149]])"
      ]
     },
     "execution_count": 679,
     "metadata": {},
     "output_type": "execute_result"
    }
   ],
   "source": [
    "arr"
   ]
  },
  {
   "cell_type": "code",
   "execution_count": 680,
   "id": "5d4752a6",
   "metadata": {},
   "outputs": [
    {
     "data": {
      "text/plain": [
       "array([[ 0.        ,  1.        ,  2.        ,  3.        ,  5.        ],\n",
       "       [-1.60306969,  0.30423477,  2.34270459,  0.21777657,  1.43744926],\n",
       "       [ 0.0820135 ,  0.12768832,  0.93017149, -0.76956284, -0.10870521]])"
      ]
     },
     "execution_count": 680,
     "metadata": {},
     "output_type": "execute_result"
    }
   ],
   "source": [
    "arr[:, arr[0].argsort()]\n"
   ]
  },
  {
   "cell_type": "code",
   "execution_count": 681,
   "id": "bb107f86",
   "metadata": {},
   "outputs": [],
   "source": [
    "first_name = np.array(['Bob', 'Jane', 'Steve', 'Bill', 'Barbara'])\n"
   ]
  },
  {
   "cell_type": "code",
   "execution_count": 682,
   "id": "2aa6fb29",
   "metadata": {},
   "outputs": [],
   "source": [
    "last_name = np.array(['Jones', 'Arnold', 'Arnold', 'Jones', 'Walters'])\n"
   ]
  },
  {
   "cell_type": "code",
   "execution_count": 683,
   "id": "8ee346e9",
   "metadata": {},
   "outputs": [],
   "source": [
    "sorter = np.lexsort((first_name, last_name))\n"
   ]
  },
  {
   "cell_type": "code",
   "execution_count": 684,
   "id": "84cb6a18",
   "metadata": {},
   "outputs": [
    {
     "data": {
      "text/plain": [
       "<zip at 0x16a39602580>"
      ]
     },
     "execution_count": 684,
     "metadata": {},
     "output_type": "execute_result"
    }
   ],
   "source": [
    "zip(last_name[sorter], first_name[sorter])\n"
   ]
  },
  {
   "cell_type": "code",
   "execution_count": 685,
   "id": "caceb622",
   "metadata": {},
   "outputs": [],
   "source": [
    "values = np.array(['2:first', '2:second', '1:first', '1:second', '1:third'])\n"
   ]
  },
  {
   "cell_type": "code",
   "execution_count": 686,
   "id": "ca04787c",
   "metadata": {},
   "outputs": [],
   "source": [
    "key = np.array([2, 2, 1, 1, 1])"
   ]
  },
  {
   "cell_type": "code",
   "execution_count": 687,
   "id": "b37623a1",
   "metadata": {},
   "outputs": [],
   "source": [
    "indexer = key.argsort(kind='mergesort')\n"
   ]
  },
  {
   "cell_type": "code",
   "execution_count": 688,
   "id": "84bf4844",
   "metadata": {},
   "outputs": [
    {
     "data": {
      "text/plain": [
       "array([2, 3, 4, 0, 1], dtype=int64)"
      ]
     },
     "execution_count": 688,
     "metadata": {},
     "output_type": "execute_result"
    }
   ],
   "source": [
    "indexer"
   ]
  },
  {
   "cell_type": "code",
   "execution_count": 689,
   "id": "36cb4eaa",
   "metadata": {},
   "outputs": [
    {
     "data": {
      "text/plain": [
       "array(['1:first', '1:second', '1:third', '2:first', '2:second'],\n",
       "      dtype='<U8')"
      ]
     },
     "execution_count": 689,
     "metadata": {},
     "output_type": "execute_result"
    }
   ],
   "source": [
    "values.take(indexer)\n"
   ]
  },
  {
   "cell_type": "code",
   "execution_count": 690,
   "id": "85cd62a3",
   "metadata": {},
   "outputs": [],
   "source": [
    "arr = np.array([0, 1, 7, 12, 15])\n"
   ]
  },
  {
   "cell_type": "code",
   "execution_count": 691,
   "id": "38a4395b",
   "metadata": {},
   "outputs": [
    {
     "data": {
      "text/plain": [
       "3"
      ]
     },
     "execution_count": 691,
     "metadata": {},
     "output_type": "execute_result"
    }
   ],
   "source": [
    "arr.searchsorted(9)\n"
   ]
  },
  {
   "cell_type": "code",
   "execution_count": 692,
   "id": "8fac2e8c",
   "metadata": {},
   "outputs": [
    {
     "data": {
      "text/plain": [
       "array([0, 3, 3, 5], dtype=int64)"
      ]
     },
     "execution_count": 692,
     "metadata": {},
     "output_type": "execute_result"
    }
   ],
   "source": [
    "arr.searchsorted([0, 8, 11, 16])"
   ]
  },
  {
   "cell_type": "code",
   "execution_count": 693,
   "id": "9fbf28f6",
   "metadata": {},
   "outputs": [],
   "source": [
    "arr = np.array([0, 0, 0, 1, 1, 1, 1])\n"
   ]
  },
  {
   "cell_type": "code",
   "execution_count": 694,
   "id": "05a6e3aa",
   "metadata": {},
   "outputs": [
    {
     "data": {
      "text/plain": [
       "array([0, 3], dtype=int64)"
      ]
     },
     "execution_count": 694,
     "metadata": {},
     "output_type": "execute_result"
    }
   ],
   "source": [
    "arr.searchsorted([0, 1])\n"
   ]
  },
  {
   "cell_type": "code",
   "execution_count": 695,
   "id": "9e679660",
   "metadata": {},
   "outputs": [
    {
     "data": {
      "text/plain": [
       "array([3, 7], dtype=int64)"
      ]
     },
     "execution_count": 695,
     "metadata": {},
     "output_type": "execute_result"
    }
   ],
   "source": [
    "arr.searchsorted([0, 1], side='right')\n"
   ]
  },
  {
   "cell_type": "code",
   "execution_count": 696,
   "id": "c6cc355c",
   "metadata": {},
   "outputs": [],
   "source": [
    "data = np.floor(np.random.uniform(0, 10000, size=50))\n"
   ]
  },
  {
   "cell_type": "code",
   "execution_count": 697,
   "id": "2c03fac7",
   "metadata": {},
   "outputs": [],
   "source": [
    "bins = np.array([0, 100, 1000, 5000, 10000])\n"
   ]
  },
  {
   "cell_type": "code",
   "execution_count": 698,
   "id": "ba015a07",
   "metadata": {},
   "outputs": [
    {
     "data": {
      "text/plain": [
       "array([5789., 5619., 6018., 4252., 5528., 6336., 4166., 6658., 8834.,\n",
       "       4460.,  502., 4864., 2706., 1153., 4150., 6252., 2568., 2898.,\n",
       "        254., 1133., 4585., 9102.,   81., 7220.,  928., 2601., 9268.,\n",
       "       6166., 2750., 5675., 1835., 7199., 4468., 8906., 9821., 5121.,\n",
       "       5474., 6344., 3696., 6375., 8428., 6314., 2160., 5766., 5151.,\n",
       "       6888., 8756., 9672., 5539., 7440.])"
      ]
     },
     "execution_count": 698,
     "metadata": {},
     "output_type": "execute_result"
    }
   ],
   "source": [
    "data\n"
   ]
  },
  {
   "cell_type": "code",
   "execution_count": 699,
   "id": "4fbe62ac",
   "metadata": {},
   "outputs": [],
   "source": [
    "labels = bins.searchsorted(data)\n"
   ]
  },
  {
   "cell_type": "code",
   "execution_count": 700,
   "id": "52831718",
   "metadata": {},
   "outputs": [
    {
     "data": {
      "text/plain": [
       "array([4, 4, 4, 3, 4, 4, 3, 4, 4, 3, 2, 3, 3, 3, 3, 4, 3, 3, 2, 3, 3, 4,\n",
       "       1, 4, 2, 3, 4, 4, 3, 4, 3, 4, 3, 4, 4, 4, 4, 4, 3, 4, 4, 4, 3, 4,\n",
       "       4, 4, 4, 4, 4, 4], dtype=int64)"
      ]
     },
     "execution_count": 700,
     "metadata": {},
     "output_type": "execute_result"
    }
   ],
   "source": [
    "labels\n"
   ]
  },
  {
   "cell_type": "code",
   "execution_count": 701,
   "id": "51a8dd68",
   "metadata": {},
   "outputs": [],
   "source": [
    "# Series(data).groupby(labels).mean()\n"
   ]
  },
  {
   "cell_type": "code",
   "execution_count": 702,
   "id": "037a3fc0",
   "metadata": {},
   "outputs": [
    {
     "data": {
      "text/plain": [
       "array([4, 4, 4, 3, 4, 4, 3, 4, 4, 3, 2, 3, 3, 3, 3, 4, 3, 3, 2, 3, 3, 4,\n",
       "       1, 4, 2, 3, 4, 4, 3, 4, 3, 4, 3, 4, 4, 4, 4, 4, 3, 4, 4, 4, 3, 4,\n",
       "       4, 4, 4, 4, 4, 4], dtype=int64)"
      ]
     },
     "execution_count": 702,
     "metadata": {},
     "output_type": "execute_result"
    }
   ],
   "source": [
    "np.digitize(data, bins)"
   ]
  },
  {
   "cell_type": "code",
   "execution_count": 703,
   "id": "ba2e66c5",
   "metadata": {},
   "outputs": [],
   "source": [
    "X = np.array([[ 8.82768214, 3.82222409, -1.14276475, 2.04411587],\n",
    "[ 3.82222409, 6.75272284, 0.83909108, 2.08293758],\n",
    "[-1.14276475, 0.83909108, 5.01690521, 0.79573241],\n",
    "[ 2.04411587, 2.08293758, 0.79573241, 6.24095859]])\n"
   ]
  },
  {
   "cell_type": "code",
   "execution_count": 704,
   "id": "246464d6",
   "metadata": {},
   "outputs": [
    {
     "data": {
      "text/plain": [
       "array([ 8.82768214,  3.82222409, -1.14276475,  2.04411587])"
      ]
     },
     "execution_count": 704,
     "metadata": {},
     "output_type": "execute_result"
    }
   ],
   "source": [
    "X[:, 0] # one-dimensional"
   ]
  },
  {
   "cell_type": "code",
   "execution_count": 705,
   "id": "edf2a5c2",
   "metadata": {},
   "outputs": [],
   "source": [
    "y = X[:, :1] # two-dimensional by slicing\n"
   ]
  },
  {
   "cell_type": "code",
   "execution_count": 706,
   "id": "728c9894",
   "metadata": {},
   "outputs": [
    {
     "data": {
      "text/plain": [
       "array([[ 8.82768214,  3.82222409, -1.14276475,  2.04411587],\n",
       "       [ 3.82222409,  6.75272284,  0.83909108,  2.08293758],\n",
       "       [-1.14276475,  0.83909108,  5.01690521,  0.79573241],\n",
       "       [ 2.04411587,  2.08293758,  0.79573241,  6.24095859]])"
      ]
     },
     "execution_count": 706,
     "metadata": {},
     "output_type": "execute_result"
    }
   ],
   "source": [
    "X"
   ]
  },
  {
   "cell_type": "code",
   "execution_count": 707,
   "id": "43db1a98",
   "metadata": {},
   "outputs": [
    {
     "data": {
      "text/plain": [
       "array([[ 8.82768214],\n",
       "       [ 3.82222409],\n",
       "       [-1.14276475],\n",
       "       [ 2.04411587]])"
      ]
     },
     "execution_count": 707,
     "metadata": {},
     "output_type": "execute_result"
    }
   ],
   "source": [
    "y"
   ]
  },
  {
   "cell_type": "code",
   "execution_count": 708,
   "id": "202c4e6e",
   "metadata": {},
   "outputs": [
    {
     "data": {
      "text/plain": [
       "array([[1195.46796121]])"
      ]
     },
     "execution_count": 708,
     "metadata": {},
     "output_type": "execute_result"
    }
   ],
   "source": [
    "np.dot(y.T, np.dot(X, y))\n"
   ]
  },
  {
   "cell_type": "code",
   "execution_count": 709,
   "id": "52be6a26",
   "metadata": {},
   "outputs": [],
   "source": [
    "Xm = np.matrix(X)\n"
   ]
  },
  {
   "cell_type": "code",
   "execution_count": 710,
   "id": "585be891",
   "metadata": {},
   "outputs": [],
   "source": [
    "ym = Xm[:, 0]\n"
   ]
  },
  {
   "cell_type": "code",
   "execution_count": 711,
   "id": "55c41811",
   "metadata": {},
   "outputs": [
    {
     "data": {
      "text/plain": [
       "matrix([[ 8.82768214,  3.82222409, -1.14276475,  2.04411587],\n",
       "        [ 3.82222409,  6.75272284,  0.83909108,  2.08293758],\n",
       "        [-1.14276475,  0.83909108,  5.01690521,  0.79573241],\n",
       "        [ 2.04411587,  2.08293758,  0.79573241,  6.24095859]])"
      ]
     },
     "execution_count": 711,
     "metadata": {},
     "output_type": "execute_result"
    }
   ],
   "source": [
    "Xm"
   ]
  },
  {
   "cell_type": "code",
   "execution_count": 712,
   "id": "6561e5c6",
   "metadata": {},
   "outputs": [
    {
     "data": {
      "text/plain": [
       "matrix([[ 8.82768214],\n",
       "        [ 3.82222409],\n",
       "        [-1.14276475],\n",
       "        [ 2.04411587]])"
      ]
     },
     "execution_count": 712,
     "metadata": {},
     "output_type": "execute_result"
    }
   ],
   "source": [
    "ym"
   ]
  },
  {
   "cell_type": "code",
   "execution_count": 713,
   "id": "ad034f03",
   "metadata": {},
   "outputs": [
    {
     "data": {
      "text/plain": [
       "matrix([[1195.46796121]])"
      ]
     },
     "execution_count": 713,
     "metadata": {},
     "output_type": "execute_result"
    }
   ],
   "source": [
    "ym.T * Xm * ym"
   ]
  },
  {
   "cell_type": "code",
   "execution_count": 714,
   "id": "7c1fb612",
   "metadata": {},
   "outputs": [
    {
     "data": {
      "text/plain": [
       "matrix([[ 1.00000000e+00,  0.00000000e+00, -5.55111512e-17,\n",
       "          5.55111512e-17],\n",
       "        [-1.11022302e-16,  1.00000000e+00,  2.77555756e-17,\n",
       "         -5.55111512e-17],\n",
       "        [ 1.11022302e-16,  0.00000000e+00,  1.00000000e+00,\n",
       "          0.00000000e+00],\n",
       "        [-5.55111512e-17, -5.55111512e-17,  2.77555756e-17,\n",
       "          1.00000000e+00]])"
      ]
     },
     "execution_count": 714,
     "metadata": {},
     "output_type": "execute_result"
    }
   ],
   "source": [
    "Xm.I * X"
   ]
  },
  {
   "cell_type": "code",
   "execution_count": 715,
   "id": "b6cdeea4",
   "metadata": {},
   "outputs": [],
   "source": [
    "mmap = np.memmap('mymmap', dtype='float64', mode='w+', shape=(10000, 10000))\n"
   ]
  },
  {
   "cell_type": "code",
   "execution_count": 716,
   "id": "7d7cfb8f",
   "metadata": {},
   "outputs": [
    {
     "data": {
      "text/plain": [
       "memmap([[0., 0., 0., ..., 0., 0., 0.],\n",
       "        [0., 0., 0., ..., 0., 0., 0.],\n",
       "        [0., 0., 0., ..., 0., 0., 0.],\n",
       "        ...,\n",
       "        [0., 0., 0., ..., 0., 0., 0.],\n",
       "        [0., 0., 0., ..., 0., 0., 0.],\n",
       "        [0., 0., 0., ..., 0., 0., 0.]])"
      ]
     },
     "execution_count": 716,
     "metadata": {},
     "output_type": "execute_result"
    }
   ],
   "source": [
    "mmap\n"
   ]
  },
  {
   "cell_type": "code",
   "execution_count": 717,
   "id": "40a3b03a",
   "metadata": {},
   "outputs": [],
   "source": [
    "section = mmap[:5]\n"
   ]
  },
  {
   "cell_type": "code",
   "execution_count": 718,
   "id": "e05fc6d3",
   "metadata": {},
   "outputs": [],
   "source": [
    "section[:] = np.random.randn(5, 10000)\n"
   ]
  },
  {
   "cell_type": "code",
   "execution_count": 719,
   "id": "0d914e14",
   "metadata": {},
   "outputs": [],
   "source": [
    "mmap.flush()\n"
   ]
  },
  {
   "cell_type": "code",
   "execution_count": 720,
   "id": "4ea1e12a",
   "metadata": {},
   "outputs": [
    {
     "data": {
      "text/plain": [
       "memmap([[-0.7179329 ,  1.74310237, -0.5811069 , ...,  0.04414232,\n",
       "          1.25395054, -0.91587111],\n",
       "        [ 0.67113433,  0.91317117, -0.9626812 , ...,  1.62379777,\n",
       "          0.28653466,  0.90755843],\n",
       "        [-1.31375142, -1.20801306, -0.22898393, ..., -0.80092833,\n",
       "          1.20937342,  1.0935301 ],\n",
       "        ...,\n",
       "        [ 0.        ,  0.        ,  0.        , ...,  0.        ,\n",
       "          0.        ,  0.        ],\n",
       "        [ 0.        ,  0.        ,  0.        , ...,  0.        ,\n",
       "          0.        ,  0.        ],\n",
       "        [ 0.        ,  0.        ,  0.        , ...,  0.        ,\n",
       "          0.        ,  0.        ]])"
      ]
     },
     "execution_count": 720,
     "metadata": {},
     "output_type": "execute_result"
    }
   ],
   "source": [
    "mmap\n"
   ]
  },
  {
   "cell_type": "code",
   "execution_count": 721,
   "id": "ea158aa9",
   "metadata": {},
   "outputs": [],
   "source": [
    "del mmap\n"
   ]
  },
  {
   "cell_type": "code",
   "execution_count": 722,
   "id": "5610449c",
   "metadata": {},
   "outputs": [],
   "source": [
    "mmap = np.memmap('mymmap', dtype='float64', shape=(10000, 10000))\n"
   ]
  },
  {
   "cell_type": "code",
   "execution_count": 723,
   "id": "a61448ee",
   "metadata": {},
   "outputs": [
    {
     "data": {
      "text/plain": [
       "memmap([[-0.7179329 ,  1.74310237, -0.5811069 , ...,  0.04414232,\n",
       "          1.25395054, -0.91587111],\n",
       "        [ 0.67113433,  0.91317117, -0.9626812 , ...,  1.62379777,\n",
       "          0.28653466,  0.90755843],\n",
       "        [-1.31375142, -1.20801306, -0.22898393, ..., -0.80092833,\n",
       "          1.20937342,  1.0935301 ],\n",
       "        ...,\n",
       "        [ 0.        ,  0.        ,  0.        , ...,  0.        ,\n",
       "          0.        ,  0.        ],\n",
       "        [ 0.        ,  0.        ,  0.        , ...,  0.        ,\n",
       "          0.        ,  0.        ],\n",
       "        [ 0.        ,  0.        ,  0.        , ...,  0.        ,\n",
       "          0.        ,  0.        ]])"
      ]
     },
     "execution_count": 723,
     "metadata": {},
     "output_type": "execute_result"
    }
   ],
   "source": [
    "mmap\n"
   ]
  },
  {
   "cell_type": "code",
   "execution_count": 724,
   "id": "9618091a",
   "metadata": {},
   "outputs": [],
   "source": [
    "arr_c = np.ones((1000, 1000), order='C')\n"
   ]
  },
  {
   "cell_type": "code",
   "execution_count": 725,
   "id": "25781bc8",
   "metadata": {},
   "outputs": [],
   "source": [
    "arr_f = np.ones((1000, 1000), order='F')\n"
   ]
  },
  {
   "cell_type": "code",
   "execution_count": 726,
   "id": "d3f68652",
   "metadata": {},
   "outputs": [
    {
     "data": {
      "text/plain": [
       "  C_CONTIGUOUS : True\n",
       "  F_CONTIGUOUS : False\n",
       "  OWNDATA : True\n",
       "  WRITEABLE : True\n",
       "  ALIGNED : True\n",
       "  WRITEBACKIFCOPY : False\n",
       "  UPDATEIFCOPY : False"
      ]
     },
     "execution_count": 726,
     "metadata": {},
     "output_type": "execute_result"
    }
   ],
   "source": [
    "arr_c.flags "
   ]
  },
  {
   "cell_type": "code",
   "execution_count": 727,
   "id": "20f281d5",
   "metadata": {},
   "outputs": [
    {
     "data": {
      "text/plain": [
       "  C_CONTIGUOUS : False\n",
       "  F_CONTIGUOUS : True\n",
       "  OWNDATA : True\n",
       "  WRITEABLE : True\n",
       "  ALIGNED : True\n",
       "  WRITEBACKIFCOPY : False\n",
       "  UPDATEIFCOPY : False"
      ]
     },
     "execution_count": 727,
     "metadata": {},
     "output_type": "execute_result"
    }
   ],
   "source": [
    "arr_f.flags "
   ]
  },
  {
   "cell_type": "code",
   "execution_count": 728,
   "id": "937fa58b",
   "metadata": {},
   "outputs": [
    {
     "data": {
      "text/plain": [
       "True"
      ]
     },
     "execution_count": 728,
     "metadata": {},
     "output_type": "execute_result"
    }
   ],
   "source": [
    "arr_f.flags.f_contiguous\n"
   ]
  },
  {
   "cell_type": "code",
   "execution_count": 729,
   "id": "2df4a5e0",
   "metadata": {},
   "outputs": [
    {
     "name": "stdout",
     "output_type": "stream",
     "text": [
      "1.45 ms ± 577 µs per loop (mean ± std. dev. of 7 runs, 100 loops each)\n"
     ]
    }
   ],
   "source": [
    "%timeit arr_c.sum(1)\n"
   ]
  },
  {
   "cell_type": "code",
   "execution_count": 730,
   "id": "1c5ef7c3",
   "metadata": {},
   "outputs": [
    {
     "name": "stdout",
     "output_type": "stream",
     "text": [
      "357 µs ± 11.9 µs per loop (mean ± std. dev. of 7 runs, 1,000 loops each)\n"
     ]
    }
   ],
   "source": [
    "%timeit arr_f.sum(1)\n"
   ]
  },
  {
   "cell_type": "code",
   "execution_count": 731,
   "id": "73915c36",
   "metadata": {},
   "outputs": [
    {
     "data": {
      "text/plain": [
       "  C_CONTIGUOUS : True\n",
       "  F_CONTIGUOUS : False\n",
       "  OWNDATA : True\n",
       "  WRITEABLE : True\n",
       "  ALIGNED : True\n",
       "  WRITEBACKIFCOPY : False\n",
       "  UPDATEIFCOPY : False"
      ]
     },
     "execution_count": 731,
     "metadata": {},
     "output_type": "execute_result"
    }
   ],
   "source": [
    "arr_f.copy('C').flags"
   ]
  },
  {
   "cell_type": "code",
   "execution_count": 732,
   "id": "9070d10d",
   "metadata": {},
   "outputs": [
    {
     "data": {
      "text/plain": [
       "True"
      ]
     },
     "execution_count": 732,
     "metadata": {},
     "output_type": "execute_result"
    }
   ],
   "source": [
    "arr_c[:50].flags.contiguous"
   ]
  },
  {
   "cell_type": "code",
   "execution_count": 733,
   "id": "f54d7b8f",
   "metadata": {},
   "outputs": [
    {
     "data": {
      "text/plain": [
       "  C_CONTIGUOUS : False\n",
       "  F_CONTIGUOUS : False\n",
       "  OWNDATA : False\n",
       "  WRITEABLE : True\n",
       "  ALIGNED : True\n",
       "  WRITEBACKIFCOPY : False\n",
       "  UPDATEIFCOPY : False"
      ]
     },
     "execution_count": 733,
     "metadata": {},
     "output_type": "execute_result"
    }
   ],
   "source": [
    "arr_c[:, :50].flags"
   ]
  },
  {
   "cell_type": "code",
   "execution_count": 734,
   "id": "2f3fa603",
   "metadata": {},
   "outputs": [
    {
     "ename": "SyntaxError",
     "evalue": "invalid syntax (2762381118.py, line 1)",
     "output_type": "error",
     "traceback": [
      "\u001b[1;36m  Input \u001b[1;32mIn [734]\u001b[1;36m\u001b[0m\n\u001b[1;33m    from numpy cimport ndarray, float64_t\u001b[0m\n\u001b[1;37m               ^\u001b[0m\n\u001b[1;31mSyntaxError\u001b[0m\u001b[1;31m:\u001b[0m invalid syntax\n"
     ]
    }
   ],
   "source": [
    "from numpy cimport ndarray, float64_t\n",
    "def sum_elements(ndarray[float64_t] arr):\n",
    "    cdef Py_ssize_t i, n = len(arr)\n",
    "    cdef float64_t result = 0\n",
    "    for i in range(n):\n",
    "        result += arr[i]\n",
    "    return result"
   ]
  },
  {
   "cell_type": "code",
   "execution_count": null,
   "id": "83c55981",
   "metadata": {},
   "outputs": [],
   "source": []
  },
  {
   "cell_type": "code",
   "execution_count": null,
   "id": "a622f333",
   "metadata": {},
   "outputs": [],
   "source": []
  },
  {
   "cell_type": "code",
   "execution_count": null,
   "id": "1ac5726e",
   "metadata": {},
   "outputs": [],
   "source": []
  },
  {
   "cell_type": "code",
   "execution_count": null,
   "id": "25a6a5f7",
   "metadata": {},
   "outputs": [],
   "source": []
  },
  {
   "cell_type": "code",
   "execution_count": null,
   "id": "f75bb4b6",
   "metadata": {},
   "outputs": [],
   "source": []
  },
  {
   "cell_type": "code",
   "execution_count": null,
   "id": "7b7637b5",
   "metadata": {},
   "outputs": [],
   "source": []
  },
  {
   "cell_type": "code",
   "execution_count": null,
   "id": "766cd75a",
   "metadata": {},
   "outputs": [],
   "source": []
  },
  {
   "cell_type": "code",
   "execution_count": null,
   "id": "3c56f3b9",
   "metadata": {},
   "outputs": [],
   "source": []
  },
  {
   "cell_type": "code",
   "execution_count": null,
   "id": "ae95e0db",
   "metadata": {},
   "outputs": [],
   "source": []
  },
  {
   "cell_type": "code",
   "execution_count": null,
   "id": "445137b6",
   "metadata": {},
   "outputs": [],
   "source": []
  },
  {
   "cell_type": "code",
   "execution_count": null,
   "id": "c46cbdd1",
   "metadata": {},
   "outputs": [],
   "source": []
  },
  {
   "cell_type": "code",
   "execution_count": null,
   "id": "c01feb6f",
   "metadata": {},
   "outputs": [],
   "source": []
  },
  {
   "cell_type": "code",
   "execution_count": null,
   "id": "f8edf979",
   "metadata": {},
   "outputs": [],
   "source": []
  },
  {
   "cell_type": "code",
   "execution_count": null,
   "id": "970fc4ef",
   "metadata": {},
   "outputs": [],
   "source": []
  },
  {
   "cell_type": "code",
   "execution_count": null,
   "id": "6e87226c",
   "metadata": {},
   "outputs": [],
   "source": []
  },
  {
   "cell_type": "code",
   "execution_count": null,
   "id": "00adf51f",
   "metadata": {},
   "outputs": [],
   "source": []
  },
  {
   "cell_type": "code",
   "execution_count": null,
   "id": "cac236ac",
   "metadata": {},
   "outputs": [],
   "source": []
  },
  {
   "cell_type": "code",
   "execution_count": null,
   "id": "0178544f",
   "metadata": {},
   "outputs": [],
   "source": []
  },
  {
   "cell_type": "code",
   "execution_count": null,
   "id": "75272452",
   "metadata": {},
   "outputs": [],
   "source": []
  },
  {
   "cell_type": "code",
   "execution_count": null,
   "id": "13b18d1d",
   "metadata": {},
   "outputs": [],
   "source": []
  },
  {
   "cell_type": "code",
   "execution_count": null,
   "id": "33267cb5",
   "metadata": {},
   "outputs": [],
   "source": []
  },
  {
   "cell_type": "code",
   "execution_count": null,
   "id": "896baa6a",
   "metadata": {},
   "outputs": [],
   "source": []
  },
  {
   "cell_type": "code",
   "execution_count": null,
   "id": "6e0d832a",
   "metadata": {},
   "outputs": [],
   "source": []
  },
  {
   "cell_type": "code",
   "execution_count": null,
   "id": "a7836689",
   "metadata": {},
   "outputs": [],
   "source": []
  },
  {
   "cell_type": "code",
   "execution_count": null,
   "id": "d7bbd748",
   "metadata": {},
   "outputs": [],
   "source": []
  },
  {
   "cell_type": "code",
   "execution_count": null,
   "id": "aa791c43",
   "metadata": {},
   "outputs": [],
   "source": []
  },
  {
   "cell_type": "code",
   "execution_count": null,
   "id": "f559f4e1",
   "metadata": {},
   "outputs": [],
   "source": []
  },
  {
   "cell_type": "code",
   "execution_count": null,
   "id": "3e212a79",
   "metadata": {},
   "outputs": [],
   "source": []
  },
  {
   "cell_type": "code",
   "execution_count": null,
   "id": "2e0ba226",
   "metadata": {},
   "outputs": [],
   "source": []
  },
  {
   "cell_type": "code",
   "execution_count": null,
   "id": "ef98e4fd",
   "metadata": {},
   "outputs": [],
   "source": []
  },
  {
   "cell_type": "code",
   "execution_count": null,
   "id": "4841213c",
   "metadata": {},
   "outputs": [],
   "source": []
  },
  {
   "cell_type": "code",
   "execution_count": null,
   "id": "d85f9a06",
   "metadata": {},
   "outputs": [],
   "source": []
  },
  {
   "cell_type": "code",
   "execution_count": null,
   "id": "5c75fe7d",
   "metadata": {},
   "outputs": [],
   "source": []
  },
  {
   "cell_type": "markdown",
   "id": "f759358f",
   "metadata": {},
   "source": []
  }
 ],
 "metadata": {
  "kernelspec": {
   "display_name": "TuTru",
   "language": "python",
   "name": "tutru"
  },
  "language_info": {
   "codemirror_mode": {
    "name": "ipython",
    "version": 3
   },
   "file_extension": ".py",
   "mimetype": "text/x-python",
   "name": "python",
   "nbconvert_exporter": "python",
   "pygments_lexer": "ipython3",
   "version": "3.9.12"
  }
 },
 "nbformat": 4,
 "nbformat_minor": 5
}
